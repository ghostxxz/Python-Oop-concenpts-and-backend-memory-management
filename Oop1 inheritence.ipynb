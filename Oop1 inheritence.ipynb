{
 "cells": [
  {
   "cell_type": "code",
   "execution_count": 1,
   "metadata": {},
   "outputs": [],
   "source": [
    "# there are four basic pillers of OOp\n",
    "# 1. inheritence\n",
    "# 2. encapsulation\n",
    "# 3. polymorphism\n",
    "# 4. abstraction"
   ]
  },
  {
   "cell_type": "code",
   "execution_count": 2,
   "metadata": {},
   "outputs": [],
   "source": [
    "# 1. inheritence"
   ]
  },
  {
   "cell_type": "code",
   "execution_count": 140,
   "metadata": {},
   "outputs": [],
   "source": [
    "class car:\n",
    "    def __init__(self1, name, model):\n",
    "        self1.name = name \n",
    "        self1.model = model\n",
    "        print(\"this is the parent initializer\")\n",
    "        self1.specs()\n",
    "        self1.specs()\n",
    "    def __str__(self) -> str:\n",
    "        return f\"{self.name}({self.model})\"\n",
    "        \n",
    "    def specs(self):\n",
    "        print(self.name, self.model)\n",
    "    \n",
    "    def specs(self2):\n",
    "        print(self2.name, self2.model)\n",
    "    \n",
    "\n",
    "\n",
    "class electric(car):\n",
    "    def __init__(self1, name, model) -> None:\n",
    "        print(\"child initializer\")\n",
    "        super().__init__(name, model)\n",
    "        self1.name = name\n",
    "        self1.model = model\n"
   ]
  },
  {
   "cell_type": "code",
   "execution_count": 141,
   "metadata": {},
   "outputs": [
    {
     "name": "stdout",
     "output_type": "stream",
     "text": [
      "this is the parent initializer\n",
      "honda 2023\n",
      "honda 2023\n"
     ]
    }
   ],
   "source": [
    "cc = car(\"honda\", \"2023\")"
   ]
  },
  {
   "cell_type": "code",
   "execution_count": 143,
   "metadata": {},
   "outputs": [
    {
     "data": {
      "text/plain": [
       "[__main__.electric, __main__.car, object]"
      ]
     },
     "execution_count": 143,
     "metadata": {},
     "output_type": "execute_result"
    }
   ],
   "source": [
    "electric.mro()"
   ]
  },
  {
   "cell_type": "code",
   "execution_count": 55,
   "metadata": {},
   "outputs": [
    {
     "name": "stdout",
     "output_type": "stream",
     "text": [
      "honda(2023)\n"
     ]
    }
   ],
   "source": [
    "# cc.name\n",
    "# print(cc)\n",
    "print(cc)"
   ]
  },
  {
   "cell_type": "code",
   "execution_count": 44,
   "metadata": {},
   "outputs": [
    {
     "data": {
      "text/plain": [
       "'honda(2023)'"
      ]
     },
     "execution_count": 44,
     "metadata": {},
     "output_type": "execute_result"
    }
   ],
   "source": [
    "cc.__str__()"
   ]
  },
  {
   "cell_type": "code",
   "execution_count": 33,
   "metadata": {},
   "outputs": [
    {
     "name": "stdout",
     "output_type": "stream",
     "text": [
      "child initializer\n",
      "this is the parent initializer\n",
      "hone 2023\n"
     ]
    }
   ],
   "source": [
    "ee = electric(\"hone\", \"2023\")"
   ]
  },
  {
   "cell_type": "code",
   "execution_count": null,
   "metadata": {},
   "outputs": [],
   "source": []
  },
  {
   "cell_type": "code",
   "execution_count": null,
   "metadata": {},
   "outputs": [],
   "source": []
  },
  {
   "cell_type": "code",
   "execution_count": null,
   "metadata": {},
   "outputs": [],
   "source": []
  },
  {
   "cell_type": "code",
   "execution_count": 56,
   "metadata": {},
   "outputs": [],
   "source": [
    "class demo:\n",
    "    def __init__(self):\n",
    "        self.name = \"arbaz\"\n",
    "\n",
    "    def __str__(self) -> str:\n",
    "        return \"my name is :\" + self.name"
   ]
  },
  {
   "cell_type": "code",
   "execution_count": 57,
   "metadata": {},
   "outputs": [],
   "source": [
    "d = demo()"
   ]
  },
  {
   "cell_type": "code",
   "execution_count": 58,
   "metadata": {},
   "outputs": [
    {
     "name": "stdout",
     "output_type": "stream",
     "text": [
      "my name is :arbaz\n"
     ]
    }
   ],
   "source": [
    "print(d)"
   ]
  },
  {
   "cell_type": "code",
   "execution_count": 90,
   "metadata": {},
   "outputs": [],
   "source": [
    "class animal():\n",
    "    def __init__(self, cat, age):\n",
    "        self.cat = cat\n",
    "        self.age = age\n",
    "    def __str__(self):\n",
    "        return f\"category is: {self.cat}\"\n",
    "    \n",
    "    def bio(self):\n",
    "        return f\"animat cat is: {self.cat} and age could be like : {self.age}\"\n",
    "\n",
    "class fish(animal):\n",
    "    def __init__(self, cat, age, colour):\n",
    "        super().__init__(cat, age)\n",
    "        self.colour = colour\n",
    "    \n",
    "    def spec_details(self):\n",
    "        return f\"details are: {self.colour}\"\n",
    "        \n",
    "    # def __str__(self):\n",
    "    #     return super().__str__()\n",
    "        # return \"cat is \""
   ]
  },
  {
   "cell_type": "code",
   "execution_count": 91,
   "metadata": {},
   "outputs": [],
   "source": [
    "c = fish(\"sea\", \"10\", \"blue\")"
   ]
  },
  {
   "cell_type": "code",
   "execution_count": 92,
   "metadata": {},
   "outputs": [
    {
     "name": "stdout",
     "output_type": "stream",
     "text": [
      "category is: sea\n"
     ]
    }
   ],
   "source": [
    "print(c)"
   ]
  },
  {
   "cell_type": "code",
   "execution_count": 93,
   "metadata": {},
   "outputs": [
    {
     "data": {
      "text/plain": [
       "'animat cat is: sea and age could be like : 10'"
      ]
     },
     "execution_count": 93,
     "metadata": {},
     "output_type": "execute_result"
    }
   ],
   "source": [
    "c.bio()"
   ]
  },
  {
   "cell_type": "code",
   "execution_count": 95,
   "metadata": {},
   "outputs": [
    {
     "data": {
      "text/plain": [
       "'details are: blue'"
      ]
     },
     "execution_count": 95,
     "metadata": {},
     "output_type": "execute_result"
    }
   ],
   "source": [
    "c.spec_details()"
   ]
  },
  {
   "cell_type": "code",
   "execution_count": 84,
   "metadata": {},
   "outputs": [],
   "source": [
    "c.colour = \"blue\""
   ]
  },
  {
   "cell_type": "code",
   "execution_count": 85,
   "metadata": {},
   "outputs": [
    {
     "data": {
      "text/plain": [
       "'blue'"
      ]
     },
     "execution_count": 85,
     "metadata": {},
     "output_type": "execute_result"
    }
   ],
   "source": [
    "c.colour"
   ]
  },
  {
   "cell_type": "code",
   "execution_count": 96,
   "metadata": {},
   "outputs": [],
   "source": [
    "c.colour = \"black\""
   ]
  },
  {
   "cell_type": "code",
   "execution_count": 97,
   "metadata": {},
   "outputs": [
    {
     "data": {
      "text/plain": [
       "'black'"
      ]
     },
     "execution_count": 97,
     "metadata": {},
     "output_type": "execute_result"
    }
   ],
   "source": [
    "c.colour"
   ]
  },
  {
   "cell_type": "code",
   "execution_count": 98,
   "metadata": {},
   "outputs": [
    {
     "data": {
      "text/plain": [
       "'animat cat is: sea and age could be like : 10'"
      ]
     },
     "execution_count": 98,
     "metadata": {},
     "output_type": "execute_result"
    }
   ],
   "source": [
    "c.bio()"
   ]
  },
  {
   "cell_type": "code",
   "execution_count": 99,
   "metadata": {},
   "outputs": [
    {
     "data": {
      "text/plain": [
       "'details are: black'"
      ]
     },
     "execution_count": 99,
     "metadata": {},
     "output_type": "execute_result"
    }
   ],
   "source": [
    "c.spec_details()"
   ]
  },
  {
   "cell_type": "code",
   "execution_count": null,
   "metadata": {},
   "outputs": [],
   "source": []
  },
  {
   "cell_type": "code",
   "execution_count": 101,
   "metadata": {},
   "outputs": [
    {
     "data": {
      "text/plain": [
       "{'cat': 'sea', 'age': '10', 'colour': 'black'}"
      ]
     },
     "execution_count": 101,
     "metadata": {},
     "output_type": "execute_result"
    }
   ],
   "source": [
    "c.__dict__"
   ]
  },
  {
   "cell_type": "code",
   "execution_count": null,
   "metadata": {},
   "outputs": [],
   "source": []
  },
  {
   "cell_type": "code",
   "execution_count": 132,
   "metadata": {},
   "outputs": [],
   "source": [
    "class demo1():\n",
    "    \"\"\"this is for testing\"\"\"\n",
    "    dd = 0\n",
    "    def __init__(self, v):\n",
    "        self.it = v\n",
    "        \"\"\"this is for testing2\"\"\"\n",
    "    # def __doc__():\n",
    "    #     return \"this is for testing\""
   ]
  },
  {
   "cell_type": "code",
   "execution_count": 133,
   "metadata": {},
   "outputs": [],
   "source": [
    "d = demo1(1)"
   ]
  },
  {
   "cell_type": "code",
   "execution_count": 134,
   "metadata": {},
   "outputs": [
    {
     "name": "stdout",
     "output_type": "stream",
     "text": [
      "<__main__.demo1 object at 0x7fda505444f0>\n"
     ]
    }
   ],
   "source": [
    "print(d)"
   ]
  },
  {
   "cell_type": "code",
   "execution_count": 135,
   "metadata": {},
   "outputs": [
    {
     "data": {
      "text/plain": [
       "{'it': 1}"
      ]
     },
     "execution_count": 135,
     "metadata": {},
     "output_type": "execute_result"
    }
   ],
   "source": [
    "d.__dict__"
   ]
  },
  {
   "cell_type": "code",
   "execution_count": 136,
   "metadata": {},
   "outputs": [
    {
     "data": {
      "text/plain": [
       "mappingproxy({'__module__': '__main__',\n",
       "              '__doc__': 'this is for testing',\n",
       "              'dd': 0,\n",
       "              '__init__': <function __main__.demo1.__init__(self, v)>,\n",
       "              '__dict__': <attribute '__dict__' of 'demo1' objects>,\n",
       "              '__weakref__': <attribute '__weakref__' of 'demo1' objects>})"
      ]
     },
     "execution_count": 136,
     "metadata": {},
     "output_type": "execute_result"
    }
   ],
   "source": [
    "demo1.__dict__"
   ]
  },
  {
   "cell_type": "code",
   "execution_count": 137,
   "metadata": {},
   "outputs": [
    {
     "name": "stdout",
     "output_type": "stream",
     "text": [
      "this is for testing\n"
     ]
    }
   ],
   "source": [
    "print(demo1.__doc__)"
   ]
  },
  {
   "cell_type": "code",
   "execution_count": 138,
   "metadata": {},
   "outputs": [],
   "source": [
    "# import pickle\n",
    "# pickle.__doc__"
   ]
  },
  {
   "cell_type": "code",
   "execution_count": 139,
   "metadata": {},
   "outputs": [
    {
     "name": "stdout",
     "output_type": "stream",
     "text": [
      "Help on class demo1 in module __main__:\n",
      "\n",
      "class demo1(builtins.object)\n",
      " |  demo1(v)\n",
      " |  \n",
      " |  this is for testing\n",
      " |  \n",
      " |  Methods defined here:\n",
      " |  \n",
      " |  __init__(self, v)\n",
      " |      Initialize self.  See help(type(self)) for accurate signature.\n",
      " |  \n",
      " |  ----------------------------------------------------------------------\n",
      " |  Data descriptors defined here:\n",
      " |  \n",
      " |  __dict__\n",
      " |      dictionary for instance variables (if defined)\n",
      " |  \n",
      " |  __weakref__\n",
      " |      list of weak references to the object (if defined)\n",
      " |  \n",
      " |  ----------------------------------------------------------------------\n",
      " |  Data and other attributes defined here:\n",
      " |  \n",
      " |  dd = 0\n",
      "\n"
     ]
    }
   ],
   "source": [
    "help(demo1)"
   ]
  },
  {
   "cell_type": "code",
   "execution_count": 186,
   "metadata": {},
   "outputs": [
    {
     "name": "stdout",
     "output_type": "stream",
     "text": [
      "140575624602320\n"
     ]
    }
   ],
   "source": [
    "class company():\n",
    "    budget = 257\n",
    "    print(id(budget))\n",
    "    def __init__(self):\n",
    "        print(id(company.budget))\n",
    "\n",
    "\n",
    "    def remaining_budget(self, expenses):\n",
    "        company.budget = company.budget - expenses\n",
    "        return company.budget\n",
    "        "
   ]
  },
  {
   "cell_type": "code",
   "execution_count": 185,
   "metadata": {},
   "outputs": [
    {
     "name": "stdout",
     "output_type": "stream",
     "text": [
      "140575753746832\n",
      "140575753746832\n",
      "140575753746832\n",
      "140575753746832\n",
      "140575753746832\n"
     ]
    }
   ],
   "source": [
    "a = 256\n",
    "print(id(a))\n",
    "\n",
    "print(id(company.budget))\n",
    "c = company()\n",
    "\n",
    "print(id(c.budget))\n",
    "\n",
    "print(id(a))"
   ]
  },
  {
   "cell_type": "code",
   "execution_count": 145,
   "metadata": {},
   "outputs": [],
   "source": [
    "c = company()"
   ]
  },
  {
   "cell_type": "code",
   "execution_count": 156,
   "metadata": {},
   "outputs": [
    {
     "data": {
      "text/plain": [
       "int"
      ]
     },
     "execution_count": 156,
     "metadata": {},
     "output_type": "execute_result"
    }
   ],
   "source": [
    "type(c.budget)"
   ]
  },
  {
   "cell_type": "code",
   "execution_count": 147,
   "metadata": {},
   "outputs": [
    {
     "data": {
      "text/plain": [
       "500"
      ]
     },
     "execution_count": 147,
     "metadata": {},
     "output_type": "execute_result"
    }
   ],
   "source": [
    "c.remaining_budget(500)"
   ]
  },
  {
   "cell_type": "code",
   "execution_count": 148,
   "metadata": {},
   "outputs": [
    {
     "data": {
      "text/plain": [
       "500"
      ]
     },
     "execution_count": 148,
     "metadata": {},
     "output_type": "execute_result"
    }
   ],
   "source": [
    "c.budget"
   ]
  },
  {
   "cell_type": "code",
   "execution_count": 181,
   "metadata": {},
   "outputs": [
    {
     "name": "stdout",
     "output_type": "stream",
     "text": [
      "140575624602960\n",
      "140575624604368\n",
      "140575624604368\n",
      "140575624604368\n",
      "140575624602960\n"
     ]
    }
   ],
   "source": []
  },
  {
   "cell_type": "code",
   "execution_count": 165,
   "metadata": {},
   "outputs": [
    {
     "name": "stdout",
     "output_type": "stream",
     "text": [
      "140575624602576\n"
     ]
    }
   ],
   "source": [
    "c = company()"
   ]
  },
  {
   "cell_type": "code",
   "execution_count": 14,
   "metadata": {},
   "outputs": [
    {
     "name": "stdout",
     "output_type": "stream",
     "text": [
      "140265379828464\n"
     ]
    }
   ],
   "source": [
    "class company():\n",
    "    budget = 257\n",
    "    print(id(budget))\n",
    "    def __init__(self):\n",
    "        print(id(company.budget))\n",
    "\n",
    "\n",
    "    def remaining_budget(self, expenses):\n",
    "        company.budget = company.budget - expenses\n",
    "        return company.budget\n",
    "        "
   ]
  },
  {
   "cell_type": "code",
   "execution_count": 15,
   "metadata": {},
   "outputs": [],
   "source": [
    "class aa():\n",
    "    def __init__(self, number):\n",
    "        self.number = number\n",
    "        print(id(self.number))"
   ]
  },
  {
   "cell_type": "code",
   "execution_count": 16,
   "metadata": {},
   "outputs": [
    {
     "name": "stdout",
     "output_type": "stream",
     "text": [
      "140265024421072\n",
      "140265379828464\n",
      "140265379828464\n",
      "140265379828464\n",
      "140265024421072\n",
      "140265378662864\n"
     ]
    }
   ],
   "source": [
    "a = 257\n",
    "print(id(a))\n",
    "\n",
    "print(id(company.budget))\n",
    "c = company()\n",
    "\n",
    "print(id(c.budget))\n",
    "\n",
    "print(id(a))\n",
    "\n",
    "b = aa(257)"
   ]
  },
  {
   "cell_type": "code",
   "execution_count": 17,
   "metadata": {},
   "outputs": [
    {
     "data": {
      "text/plain": [
       "{'__name__': '__main__',\n",
       " '__doc__': 'Automatically created module for IPython interactive environment',\n",
       " '__package__': None,\n",
       " '__loader__': None,\n",
       " '__spec__': None,\n",
       " '__builtin__': <module 'builtins' (built-in)>,\n",
       " '__builtins__': <module 'builtins' (built-in)>,\n",
       " '_ih': ['',\n",
       "  'vars()',\n",
       "  'vars()',\n",
       "  'a = 10',\n",
       "  'vars()',\n",
       "  'a = 10\\nb = 3467',\n",
       "  'vars()',\n",
       "  'a = 10\\nb = 3467',\n",
       "  'cars()',\n",
       "  'vars()',\n",
       "  'a = 10\\nb = 3467',\n",
       "  'vars()',\n",
       "  'class aa():\\n    def __init__(self, number):\\n        self.number = number\\n        print(id(self.number))',\n",
       "  'a = 257\\nprint(id(a))\\n\\nprint(id(company.budget))\\nc = company()\\n\\nprint(id(c.budget))\\n\\nprint(id(a))\\n\\nb = aa(257)',\n",
       "  'class company():\\n    budget = 257\\n    print(id(budget))\\n    def __init__(self):\\n        print(id(company.budget))\\n\\n\\n    def remaining_budget(self, expenses):\\n        company.budget = company.budget - expenses\\n        return company.budget\\n        ',\n",
       "  'class aa():\\n    def __init__(self, number):\\n        self.number = number\\n        print(id(self.number))',\n",
       "  'a = 257\\nprint(id(a))\\n\\nprint(id(company.budget))\\nc = company()\\n\\nprint(id(c.budget))\\n\\nprint(id(a))\\n\\nb = aa(257)',\n",
       "  'vars()'],\n",
       " '_oh': {1: {...}, 2: {...}, 4: {...}, 6: {...}, 9: {...}, 11: {...}},\n",
       " '_dh': [PosixPath(\"/home/arbazhplc/personal learning's/Oop practice and memory management/Python-Oop-concenpts-and-backend-memory-management\"),\n",
       "  PosixPath(\"/home/arbazhplc/personal learning's/Oop practice and memory management/Python-Oop-concenpts-and-backend-memory-management\")],\n",
       " 'In': ['',\n",
       "  'vars()',\n",
       "  'vars()',\n",
       "  'a = 10',\n",
       "  'vars()',\n",
       "  'a = 10\\nb = 3467',\n",
       "  'vars()',\n",
       "  'a = 10\\nb = 3467',\n",
       "  'cars()',\n",
       "  'vars()',\n",
       "  'a = 10\\nb = 3467',\n",
       "  'vars()',\n",
       "  'class aa():\\n    def __init__(self, number):\\n        self.number = number\\n        print(id(self.number))',\n",
       "  'a = 257\\nprint(id(a))\\n\\nprint(id(company.budget))\\nc = company()\\n\\nprint(id(c.budget))\\n\\nprint(id(a))\\n\\nb = aa(257)',\n",
       "  'class company():\\n    budget = 257\\n    print(id(budget))\\n    def __init__(self):\\n        print(id(company.budget))\\n\\n\\n    def remaining_budget(self, expenses):\\n        company.budget = company.budget - expenses\\n        return company.budget\\n        ',\n",
       "  'class aa():\\n    def __init__(self, number):\\n        self.number = number\\n        print(id(self.number))',\n",
       "  'a = 257\\nprint(id(a))\\n\\nprint(id(company.budget))\\nc = company()\\n\\nprint(id(c.budget))\\n\\nprint(id(a))\\n\\nb = aa(257)',\n",
       "  'vars()'],\n",
       " 'Out': {1: {...}, 2: {...}, 4: {...}, 6: {...}, 9: {...}, 11: {...}},\n",
       " 'get_ipython': <bound method InteractiveShell.get_ipython of <ipykernel.zmqshell.ZMQInteractiveShell object at 0x7f9218409490>>,\n",
       " 'exit': <IPython.core.autocall.ZMQExitAutocall at 0x7f9218409df0>,\n",
       " 'quit': <IPython.core.autocall.ZMQExitAutocall at 0x7f9218409df0>,\n",
       " 'open': <function io.open(file, mode='r', buffering=-1, encoding=None, errors=None, newline=None, closefd=True, opener=None)>,\n",
       " '_': {...},\n",
       " '__': {...},\n",
       " '___': {...},\n",
       " 'sys': <module 'sys' (built-in)>,\n",
       " 'os': <module 'os' from '/home/arbazhplc/anaconda3/lib/python3.9/os.py'>,\n",
       " '__vsc_ipynb_file__': \"/home/arbazhplc/personal learning's/Oop practice and memory management/Python-Oop-concenpts-and-backend-memory-management/Oop1 inheritence.ipynb\",\n",
       " '_i': 'a = 257\\nprint(id(a))\\n\\nprint(id(company.budget))\\nc = company()\\n\\nprint(id(c.budget))\\n\\nprint(id(a))\\n\\nb = aa(257)',\n",
       " '_ii': 'class aa():\\n    def __init__(self, number):\\n        self.number = number\\n        print(id(self.number))',\n",
       " '_iii': 'class company():\\n    budget = 257\\n    print(id(budget))\\n    def __init__(self):\\n        print(id(company.budget))\\n\\n\\n    def remaining_budget(self, expenses):\\n        company.budget = company.budget - expenses\\n        return company.budget\\n        ',\n",
       " '_i1': 'vars()',\n",
       " '_1': {...},\n",
       " '_i2': 'vars()',\n",
       " '_2': {...},\n",
       " '_i3': 'a = 10',\n",
       " 'a': 257,\n",
       " '_i4': 'vars()',\n",
       " '_4': {...},\n",
       " '_i5': 'a = 10\\nb = 3467',\n",
       " 'b': <__main__.aa at 0x7f92140dad60>,\n",
       " '_i6': 'vars()',\n",
       " '_6': {...},\n",
       " '_i7': 'a = 10\\nb = 3467',\n",
       " '_i8': 'cars()',\n",
       " '_i9': 'vars()',\n",
       " '_9': {...},\n",
       " '_i10': 'a = 10\\nb = 3467',\n",
       " '_i11': 'vars()',\n",
       " '_11': {...},\n",
       " '_i12': 'class aa():\\n    def __init__(self, number):\\n        self.number = number\\n        print(id(self.number))',\n",
       " 'aa': __main__.aa,\n",
       " '_i13': 'a = 257\\nprint(id(a))\\n\\nprint(id(company.budget))\\nc = company()\\n\\nprint(id(c.budget))\\n\\nprint(id(a))\\n\\nb = aa(257)',\n",
       " '_i14': 'class company():\\n    budget = 257\\n    print(id(budget))\\n    def __init__(self):\\n        print(id(company.budget))\\n\\n\\n    def remaining_budget(self, expenses):\\n        company.budget = company.budget - expenses\\n        return company.budget\\n        ',\n",
       " 'company': __main__.company,\n",
       " '_i15': 'class aa():\\n    def __init__(self, number):\\n        self.number = number\\n        print(id(self.number))',\n",
       " '_i16': 'a = 257\\nprint(id(a))\\n\\nprint(id(company.budget))\\nc = company()\\n\\nprint(id(c.budget))\\n\\nprint(id(a))\\n\\nb = aa(257)',\n",
       " 'c': <__main__.company at 0x7f92140ba5e0>,\n",
       " '_i17': 'vars()'}"
      ]
     },
     "execution_count": 17,
     "metadata": {},
     "output_type": "execute_result"
    }
   ],
   "source": [
    "vars()"
   ]
  },
  {
   "cell_type": "code",
   "execution_count": 196,
   "metadata": {},
   "outputs": [
    {
     "data": {
      "text/plain": [
       "'0x1978e'"
      ]
     },
     "execution_count": 196,
     "metadata": {},
     "output_type": "execute_result"
    }
   ],
   "source": [
    "hex(104334)"
   ]
  },
  {
   "cell_type": "code",
   "execution_count": 197,
   "metadata": {},
   "outputs": [
    {
     "data": {
      "text/plain": [
       "'0x7fda502b2af0'"
      ]
     },
     "execution_count": 197,
     "metadata": {},
     "output_type": "execute_result"
    }
   ],
   "source": [
    "hex(id(a))"
   ]
  },
  {
   "cell_type": "code",
   "execution_count": 198,
   "metadata": {},
   "outputs": [
    {
     "data": {
      "text/plain": [
       "<function object.mro()>"
      ]
     },
     "execution_count": 198,
     "metadata": {},
     "output_type": "execute_result"
    }
   ],
   "source": [
    "object.mro"
   ]
  },
  {
   "cell_type": "code",
   "execution_count": 199,
   "metadata": {},
   "outputs": [
    {
     "data": {
      "text/plain": [
       "<method 'mro' of 'type' objects>"
      ]
     },
     "execution_count": 199,
     "metadata": {},
     "output_type": "execute_result"
    }
   ],
   "source": [
    "type.mro"
   ]
  },
  {
   "cell_type": "code",
   "execution_count": 200,
   "metadata": {},
   "outputs": [
    {
     "data": {
      "text/plain": [
       "True"
      ]
     },
     "execution_count": 200,
     "metadata": {},
     "output_type": "execute_result"
    }
   ],
   "source": [
    "isinstance(type, object)"
   ]
  },
  {
   "cell_type": "code",
   "execution_count": 202,
   "metadata": {},
   "outputs": [
    {
     "data": {
      "text/plain": [
       "True"
      ]
     },
     "execution_count": 202,
     "metadata": {},
     "output_type": "execute_result"
    }
   ],
   "source": [
    "isinstance(object, type)"
   ]
  },
  {
   "cell_type": "code",
   "execution_count": 203,
   "metadata": {},
   "outputs": [
    {
     "data": {
      "text/plain": [
       "True"
      ]
     },
     "execution_count": 203,
     "metadata": {},
     "output_type": "execute_result"
    }
   ],
   "source": [
    "isinstance(object, object)"
   ]
  },
  {
   "cell_type": "code",
   "execution_count": 205,
   "metadata": {},
   "outputs": [
    {
     "data": {
      "text/plain": [
       "True"
      ]
     },
     "execution_count": 205,
     "metadata": {},
     "output_type": "execute_result"
    }
   ],
   "source": [
    "isinstance(type, type)"
   ]
  },
  {
   "cell_type": "code",
   "execution_count": 232,
   "metadata": {},
   "outputs": [],
   "source": [
    "class animal():\n",
    "    def __init__(self, cat, age):\n",
    "        self.cat = cat\n",
    "        self.age = age\n",
    "    def __str__(self):\n",
    "        return f\"category is: {self.cat}\"\n",
    "    \n",
    "    def bio(self):\n",
    "        return f\"animat cat is: {self.cat} and age could be like : {self.age}\"\n",
    "\n",
    "class fish(animal):\n",
    "    \"\"\"this is the for fish\"\"\"\n",
    "    def __init__(self, cat, age, colour):\n",
    "        super().__init__(cat, age)\n",
    "        self.colour = colour\n",
    "    \n",
    "    def spec_details(self):\n",
    "        \"\"\"this is the for fish\"\"\"\n",
    "        return f\"details are: {self.colour}\"\n",
    "        \n",
    "    # def __str__(self):\n",
    "    #     return super().__str__()\n",
    "        # return \"cat is \""
   ]
  },
  {
   "cell_type": "code",
   "execution_count": 208,
   "metadata": {},
   "outputs": [],
   "source": [
    "a = fish(\"dark\", 10, \"black\")"
   ]
  },
  {
   "cell_type": "code",
   "execution_count": 215,
   "metadata": {},
   "outputs": [
    {
     "data": {
      "text/plain": [
       "True"
      ]
     },
     "execution_count": 215,
     "metadata": {},
     "output_type": "execute_result"
    }
   ],
   "source": [
    "isinstance(animal, object)"
   ]
  },
  {
   "cell_type": "code",
   "execution_count": 226,
   "metadata": {},
   "outputs": [
    {
     "data": {
      "text/plain": [
       "[__main__.fish, __main__.animal, object]"
      ]
     },
     "execution_count": 226,
     "metadata": {},
     "output_type": "execute_result"
    }
   ],
   "source": [
    "fish.mro()"
   ]
  },
  {
   "cell_type": "code",
   "execution_count": 233,
   "metadata": {},
   "outputs": [
    {
     "data": {
      "text/plain": [
       "mappingproxy({'__module__': '__main__',\n",
       "              '__doc__': 'this is the for fish',\n",
       "              '__init__': <function __main__.fish.__init__(self, cat, age, colour)>,\n",
       "              'spec_details': <function __main__.fish.spec_details(self)>})"
      ]
     },
     "execution_count": 233,
     "metadata": {},
     "output_type": "execute_result"
    }
   ],
   "source": [
    "fish.__dict__"
   ]
  },
  {
   "cell_type": "code",
   "execution_count": 242,
   "metadata": {},
   "outputs": [
    {
     "data": {
      "text/plain": [
       "{}"
      ]
     },
     "execution_count": 242,
     "metadata": {},
     "output_type": "execute_result"
    }
   ],
   "source": [
    "a.spec_details"
   ]
  },
  {
   "cell_type": "code",
   "execution_count": 243,
   "metadata": {},
   "outputs": [],
   "source": [
    "def ddd():\n",
    "    \"\"\"doc string for testing\"\"\""
   ]
  },
  {
   "cell_type": "code",
   "execution_count": 245,
   "metadata": {},
   "outputs": [
    {
     "ename": "TypeError",
     "evalue": "'dict' object is not callable",
     "output_type": "error",
     "traceback": [
      "\u001b[0;31m---------------------------------------------------------------------------\u001b[0m",
      "\u001b[0;31mTypeError\u001b[0m                                 Traceback (most recent call last)",
      "Cell \u001b[0;32mIn[245], line 1\u001b[0m\n\u001b[0;32m----> 1\u001b[0m ddd\u001b[39m.\u001b[39;49m\u001b[39m__dict__\u001b[39;49m()\n",
      "\u001b[0;31mTypeError\u001b[0m: 'dict' object is not callable"
     ]
    }
   ],
   "source": [
    "ddd."
   ]
  },
  {
   "cell_type": "code",
   "execution_count": 2,
   "metadata": {},
   "outputs": [
    {
     "data": {
      "text/plain": [
       "{'__name__': '__main__',\n",
       " '__doc__': 'Automatically created module for IPython interactive environment',\n",
       " '__package__': None,\n",
       " '__loader__': None,\n",
       " '__spec__': None,\n",
       " '__builtin__': <module 'builtins' (built-in)>,\n",
       " '__builtins__': <module 'builtins' (built-in)>,\n",
       " '_ih': ['', 'vars()', 'vars()'],\n",
       " '_oh': {1: {...}},\n",
       " '_dh': [PosixPath(\"/home/arbazhplc/personal learning's/Oop practice and memory management/Python-Oop-concenpts-and-backend-memory-management\"),\n",
       "  PosixPath(\"/home/arbazhplc/personal learning's/Oop practice and memory management/Python-Oop-concenpts-and-backend-memory-management\")],\n",
       " 'In': ['', 'vars()', 'vars()'],\n",
       " 'Out': {1: {...}},\n",
       " 'get_ipython': <bound method InteractiveShell.get_ipython of <ipykernel.zmqshell.ZMQInteractiveShell object at 0x7f9218409490>>,\n",
       " 'exit': <IPython.core.autocall.ZMQExitAutocall at 0x7f9218409df0>,\n",
       " 'quit': <IPython.core.autocall.ZMQExitAutocall at 0x7f9218409df0>,\n",
       " 'open': <function io.open(file, mode='r', buffering=-1, encoding=None, errors=None, newline=None, closefd=True, opener=None)>,\n",
       " '_': {...},\n",
       " '__': '',\n",
       " '___': '',\n",
       " 'sys': <module 'sys' (built-in)>,\n",
       " 'os': <module 'os' from '/home/arbazhplc/anaconda3/lib/python3.9/os.py'>,\n",
       " '__vsc_ipynb_file__': \"/home/arbazhplc/personal learning's/Oop practice and memory management/Python-Oop-concenpts-and-backend-memory-management/Oop1 inheritence.ipynb\",\n",
       " '_i': 'vars()',\n",
       " '_ii': '',\n",
       " '_iii': '',\n",
       " '_i1': 'vars()',\n",
       " '_1': {...},\n",
       " '_i2': 'vars()'}"
      ]
     },
     "execution_count": 2,
     "metadata": {},
     "output_type": "execute_result"
    }
   ],
   "source": [
    "vars()"
   ]
  },
  {
   "cell_type": "code",
   "execution_count": 10,
   "metadata": {},
   "outputs": [],
   "source": [
    "a = 10\n",
    "b = 3467"
   ]
  },
  {
   "cell_type": "code",
   "execution_count": 11,
   "metadata": {},
   "outputs": [
    {
     "data": {
      "text/plain": [
       "{'__name__': '__main__',\n",
       " '__doc__': 'Automatically created module for IPython interactive environment',\n",
       " '__package__': None,\n",
       " '__loader__': None,\n",
       " '__spec__': None,\n",
       " '__builtin__': <module 'builtins' (built-in)>,\n",
       " '__builtins__': <module 'builtins' (built-in)>,\n",
       " '_ih': ['',\n",
       "  'vars()',\n",
       "  'vars()',\n",
       "  'a = 10',\n",
       "  'vars()',\n",
       "  'a = 10\\nb = 3467',\n",
       "  'vars()',\n",
       "  'a = 10\\nb = 3467',\n",
       "  'cars()',\n",
       "  'vars()',\n",
       "  'a = 10\\nb = 3467',\n",
       "  'vars()'],\n",
       " '_oh': {1: {...}, 2: {...}, 4: {...}, 6: {...}, 9: {...}},\n",
       " '_dh': [PosixPath(\"/home/arbazhplc/personal learning's/Oop practice and memory management/Python-Oop-concenpts-and-backend-memory-management\"),\n",
       "  PosixPath(\"/home/arbazhplc/personal learning's/Oop practice and memory management/Python-Oop-concenpts-and-backend-memory-management\")],\n",
       " 'In': ['',\n",
       "  'vars()',\n",
       "  'vars()',\n",
       "  'a = 10',\n",
       "  'vars()',\n",
       "  'a = 10\\nb = 3467',\n",
       "  'vars()',\n",
       "  'a = 10\\nb = 3467',\n",
       "  'cars()',\n",
       "  'vars()',\n",
       "  'a = 10\\nb = 3467',\n",
       "  'vars()'],\n",
       " 'Out': {1: {...}, 2: {...}, 4: {...}, 6: {...}, 9: {...}},\n",
       " 'get_ipython': <bound method InteractiveShell.get_ipython of <ipykernel.zmqshell.ZMQInteractiveShell object at 0x7f9218409490>>,\n",
       " 'exit': <IPython.core.autocall.ZMQExitAutocall at 0x7f9218409df0>,\n",
       " 'quit': <IPython.core.autocall.ZMQExitAutocall at 0x7f9218409df0>,\n",
       " 'open': <function io.open(file, mode='r', buffering=-1, encoding=None, errors=None, newline=None, closefd=True, opener=None)>,\n",
       " '_': {...},\n",
       " '__': {...},\n",
       " '___': {...},\n",
       " 'sys': <module 'sys' (built-in)>,\n",
       " 'os': <module 'os' from '/home/arbazhplc/anaconda3/lib/python3.9/os.py'>,\n",
       " '__vsc_ipynb_file__': \"/home/arbazhplc/personal learning's/Oop practice and memory management/Python-Oop-concenpts-and-backend-memory-management/Oop1 inheritence.ipynb\",\n",
       " '_i': 'a = 10\\nb = 3467',\n",
       " '_ii': 'vars()',\n",
       " '_iii': 'cars()',\n",
       " '_i1': 'vars()',\n",
       " '_1': {...},\n",
       " '_i2': 'vars()',\n",
       " '_2': {...},\n",
       " '_i3': 'a = 10',\n",
       " 'a': 10,\n",
       " '_i4': 'vars()',\n",
       " '_4': {...},\n",
       " '_i5': 'a = 10\\nb = 3467',\n",
       " 'b': 3467,\n",
       " '_i6': 'vars()',\n",
       " '_6': {...},\n",
       " '_i7': 'a = 10\\nb = 3467',\n",
       " '_i8': 'cars()',\n",
       " '_i9': 'vars()',\n",
       " '_9': {...},\n",
       " '_i10': 'a = 10\\nb = 3467',\n",
       " '_i11': 'vars()'}"
      ]
     },
     "execution_count": 11,
     "metadata": {},
     "output_type": "execute_result"
    }
   ],
   "source": [
    "vars()"
   ]
  },
  {
   "cell_type": "code",
   "execution_count": 7,
   "metadata": {},
   "outputs": [],
   "source": [
    "a = 10\n",
    "b = 3467"
   ]
  },
  {
   "cell_type": "code",
   "execution_count": 9,
   "metadata": {},
   "outputs": [
    {
     "data": {
      "text/plain": [
       "{'__name__': '__main__',\n",
       " '__doc__': 'Automatically created module for IPython interactive environment',\n",
       " '__package__': None,\n",
       " '__loader__': None,\n",
       " '__spec__': None,\n",
       " '__builtin__': <module 'builtins' (built-in)>,\n",
       " '__builtins__': <module 'builtins' (built-in)>,\n",
       " '_ih': ['',\n",
       "  'vars()',\n",
       "  'vars()',\n",
       "  'a = 10',\n",
       "  'vars()',\n",
       "  'a = 10\\nb = 3467',\n",
       "  'vars()',\n",
       "  'a = 10\\nb = 3467',\n",
       "  'cars()',\n",
       "  'vars()'],\n",
       " '_oh': {1: {...}, 2: {...}, 4: {...}, 6: {...}},\n",
       " '_dh': [PosixPath(\"/home/arbazhplc/personal learning's/Oop practice and memory management/Python-Oop-concenpts-and-backend-memory-management\"),\n",
       "  PosixPath(\"/home/arbazhplc/personal learning's/Oop practice and memory management/Python-Oop-concenpts-and-backend-memory-management\")],\n",
       " 'In': ['',\n",
       "  'vars()',\n",
       "  'vars()',\n",
       "  'a = 10',\n",
       "  'vars()',\n",
       "  'a = 10\\nb = 3467',\n",
       "  'vars()',\n",
       "  'a = 10\\nb = 3467',\n",
       "  'cars()',\n",
       "  'vars()'],\n",
       " 'Out': {1: {...}, 2: {...}, 4: {...}, 6: {...}},\n",
       " 'get_ipython': <bound method InteractiveShell.get_ipython of <ipykernel.zmqshell.ZMQInteractiveShell object at 0x7f9218409490>>,\n",
       " 'exit': <IPython.core.autocall.ZMQExitAutocall at 0x7f9218409df0>,\n",
       " 'quit': <IPython.core.autocall.ZMQExitAutocall at 0x7f9218409df0>,\n",
       " 'open': <function io.open(file, mode='r', buffering=-1, encoding=None, errors=None, newline=None, closefd=True, opener=None)>,\n",
       " '_': {...},\n",
       " '__': {...},\n",
       " '___': {...},\n",
       " 'sys': <module 'sys' (built-in)>,\n",
       " 'os': <module 'os' from '/home/arbazhplc/anaconda3/lib/python3.9/os.py'>,\n",
       " '__vsc_ipynb_file__': \"/home/arbazhplc/personal learning's/Oop practice and memory management/Python-Oop-concenpts-and-backend-memory-management/Oop1 inheritence.ipynb\",\n",
       " '_i': 'cars()',\n",
       " '_ii': 'a = 10\\nb = 3467',\n",
       " '_iii': 'vars()',\n",
       " '_i1': 'vars()',\n",
       " '_1': {...},\n",
       " '_i2': 'vars()',\n",
       " '_2': {...},\n",
       " '_i3': 'a = 10',\n",
       " 'a': 10,\n",
       " '_i4': 'vars()',\n",
       " '_4': {...},\n",
       " '_i5': 'a = 10\\nb = 3467',\n",
       " 'b': 3467,\n",
       " '_i6': 'vars()',\n",
       " '_6': {...},\n",
       " '_i7': 'a = 10\\nb = 3467',\n",
       " '_i8': 'cars()',\n",
       " '_i9': 'vars()'}"
      ]
     },
     "execution_count": 9,
     "metadata": {},
     "output_type": "execute_result"
    }
   ],
   "source": [
    "vars()"
   ]
  },
  {
   "cell_type": "code",
   "execution_count": null,
   "metadata": {},
   "outputs": [],
   "source": []
  }
 ],
 "metadata": {
  "kernelspec": {
   "display_name": "virtual-env",
   "language": "python",
   "name": "python3"
  },
  "language_info": {
   "codemirror_mode": {
    "name": "ipython",
    "version": 3
   },
   "file_extension": ".py",
   "mimetype": "text/x-python",
   "name": "python",
   "nbconvert_exporter": "python",
   "pygments_lexer": "ipython3",
   "version": "3.9.13"
  },
  "orig_nbformat": 4,
  "vscode": {
   "interpreter": {
    "hash": "efd0f11ecf0dafebb326181b7a144c1363cc586168af640c71bb4a1ca66b1b47"
   }
  }
 },
 "nbformat": 4,
 "nbformat_minor": 2
}
