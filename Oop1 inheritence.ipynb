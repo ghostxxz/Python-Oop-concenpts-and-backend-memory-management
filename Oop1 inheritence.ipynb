{
 "cells": [
  {
   "cell_type": "code",
   "execution_count": 1,
   "metadata": {},
   "outputs": [],
   "source": [
    "# there are four basic pillers of OOp\n",
    "# 1. inheritence\n",
    "# 2. encapsulation\n",
    "# 3. polymorphism\n",
    "# 4. abstraction"
   ]
  },
  {
   "cell_type": "code",
   "execution_count": 2,
   "metadata": {},
   "outputs": [],
   "source": [
    "# 1. inheritence"
   ]
  },
  {
   "cell_type": "code",
   "execution_count": 140,
   "metadata": {},
   "outputs": [],
   "source": [
    "class car:\n",
    "    def __init__(self1, name, model):\n",
    "        self1.name = name \n",
    "        self1.model = model\n",
    "        print(\"this is the parent initializer\")\n",
    "        self1.specs()\n",
    "        self1.specs()\n",
    "    def __str__(self) -> str:\n",
    "        return f\"{self.name}({self.model})\"\n",
    "        \n",
    "    def specs(self):\n",
    "        print(self.name, self.model)\n",
    "    \n",
    "    def specs(self2):\n",
    "        print(self2.name, self2.model)\n",
    "    \n",
    "\n",
    "\n",
    "class electric(car):\n",
    "    def __init__(self1, name, model) -> None:\n",
    "        print(\"child initializer\")\n",
    "        super().__init__(name, model)\n",
    "        self1.name = name\n",
    "        self1.model = model\n"
   ]
  },
  {
   "cell_type": "code",
   "execution_count": 141,
   "metadata": {},
   "outputs": [
    {
     "name": "stdout",
     "output_type": "stream",
     "text": [
      "this is the parent initializer\n",
      "honda 2023\n",
      "honda 2023\n"
     ]
    }
   ],
   "source": [
    "cc = car(\"honda\", \"2023\")"
   ]
  },
  {
   "cell_type": "code",
   "execution_count": 143,
   "metadata": {},
   "outputs": [
    {
     "data": {
      "text/plain": [
       "[__main__.electric, __main__.car, object]"
      ]
     },
     "execution_count": 143,
     "metadata": {},
     "output_type": "execute_result"
    }
   ],
   "source": [
    "electric.mro()"
   ]
  },
  {
   "cell_type": "code",
   "execution_count": 55,
   "metadata": {},
   "outputs": [
    {
     "name": "stdout",
     "output_type": "stream",
     "text": [
      "honda(2023)\n"
     ]
    }
   ],
   "source": [
    "# cc.name\n",
    "# print(cc)\n",
    "print(cc)"
   ]
  },
  {
   "cell_type": "code",
   "execution_count": 44,
   "metadata": {},
   "outputs": [
    {
     "data": {
      "text/plain": [
       "'honda(2023)'"
      ]
     },
     "execution_count": 44,
     "metadata": {},
     "output_type": "execute_result"
    }
   ],
   "source": [
    "cc.__str__()"
   ]
  },
  {
   "cell_type": "code",
   "execution_count": 33,
   "metadata": {},
   "outputs": [
    {
     "name": "stdout",
     "output_type": "stream",
     "text": [
      "child initializer\n",
      "this is the parent initializer\n",
      "hone 2023\n"
     ]
    }
   ],
   "source": [
    "ee = electric(\"hone\", \"2023\")"
   ]
  },
  {
   "cell_type": "code",
   "execution_count": null,
   "metadata": {},
   "outputs": [],
   "source": []
  },
  {
   "cell_type": "code",
   "execution_count": null,
   "metadata": {},
   "outputs": [],
   "source": []
  },
  {
   "cell_type": "code",
   "execution_count": null,
   "metadata": {},
   "outputs": [],
   "source": []
  },
  {
   "cell_type": "code",
   "execution_count": 56,
   "metadata": {},
   "outputs": [],
   "source": [
    "class demo:\n",
    "    def __init__(self):\n",
    "        self.name = \"arbaz\"\n",
    "\n",
    "    def __str__(self) -> str:\n",
    "        return \"my name is :\" + self.name"
   ]
  },
  {
   "cell_type": "code",
   "execution_count": 57,
   "metadata": {},
   "outputs": [],
   "source": [
    "d = demo()"
   ]
  },
  {
   "cell_type": "code",
   "execution_count": 58,
   "metadata": {},
   "outputs": [
    {
     "name": "stdout",
     "output_type": "stream",
     "text": [
      "my name is :arbaz\n"
     ]
    }
   ],
   "source": [
    "print(d)"
   ]
  },
  {
   "cell_type": "code",
   "execution_count": 90,
   "metadata": {},
   "outputs": [],
   "source": [
    "class animal():\n",
    "    def __init__(self, cat, age):\n",
    "        self.cat = cat\n",
    "        self.age = age\n",
    "    def __str__(self):\n",
    "        return f\"category is: {self.cat}\"\n",
    "    \n",
    "    def bio(self):\n",
    "        return f\"animat cat is: {self.cat} and age could be like : {self.age}\"\n",
    "\n",
    "class fish(animal):\n",
    "    def __init__(self, cat, age, colour):\n",
    "        super().__init__(cat, age)\n",
    "        self.colour = colour\n",
    "    \n",
    "    def spec_details(self):\n",
    "        return f\"details are: {self.colour}\"\n",
    "        \n",
    "    # def __str__(self):\n",
    "    #     return super().__str__()\n",
    "        # return \"cat is \""
   ]
  },
  {
   "cell_type": "code",
   "execution_count": 91,
   "metadata": {},
   "outputs": [],
   "source": [
    "c = fish(\"sea\", \"10\", \"blue\")"
   ]
  },
  {
   "cell_type": "code",
   "execution_count": 92,
   "metadata": {},
   "outputs": [
    {
     "name": "stdout",
     "output_type": "stream",
     "text": [
      "category is: sea\n"
     ]
    }
   ],
   "source": [
    "print(c)"
   ]
  },
  {
   "cell_type": "code",
   "execution_count": 93,
   "metadata": {},
   "outputs": [
    {
     "data": {
      "text/plain": [
       "'animat cat is: sea and age could be like : 10'"
      ]
     },
     "execution_count": 93,
     "metadata": {},
     "output_type": "execute_result"
    }
   ],
   "source": [
    "c.bio()"
   ]
  },
  {
   "cell_type": "code",
   "execution_count": 95,
   "metadata": {},
   "outputs": [
    {
     "data": {
      "text/plain": [
       "'details are: blue'"
      ]
     },
     "execution_count": 95,
     "metadata": {},
     "output_type": "execute_result"
    }
   ],
   "source": [
    "c.spec_details()"
   ]
  },
  {
   "cell_type": "code",
   "execution_count": 84,
   "metadata": {},
   "outputs": [],
   "source": [
    "c.colour = \"blue\""
   ]
  },
  {
   "cell_type": "code",
   "execution_count": 85,
   "metadata": {},
   "outputs": [
    {
     "data": {
      "text/plain": [
       "'blue'"
      ]
     },
     "execution_count": 85,
     "metadata": {},
     "output_type": "execute_result"
    }
   ],
   "source": [
    "c.colour"
   ]
  },
  {
   "cell_type": "code",
   "execution_count": 96,
   "metadata": {},
   "outputs": [],
   "source": [
    "c.colour = \"black\""
   ]
  },
  {
   "cell_type": "code",
   "execution_count": 97,
   "metadata": {},
   "outputs": [
    {
     "data": {
      "text/plain": [
       "'black'"
      ]
     },
     "execution_count": 97,
     "metadata": {},
     "output_type": "execute_result"
    }
   ],
   "source": [
    "c.colour"
   ]
  },
  {
   "cell_type": "code",
   "execution_count": 98,
   "metadata": {},
   "outputs": [
    {
     "data": {
      "text/plain": [
       "'animat cat is: sea and age could be like : 10'"
      ]
     },
     "execution_count": 98,
     "metadata": {},
     "output_type": "execute_result"
    }
   ],
   "source": [
    "c.bio()"
   ]
  },
  {
   "cell_type": "code",
   "execution_count": 99,
   "metadata": {},
   "outputs": [
    {
     "data": {
      "text/plain": [
       "'details are: black'"
      ]
     },
     "execution_count": 99,
     "metadata": {},
     "output_type": "execute_result"
    }
   ],
   "source": [
    "c.spec_details()"
   ]
  },
  {
   "cell_type": "code",
   "execution_count": null,
   "metadata": {},
   "outputs": [],
   "source": []
  },
  {
   "cell_type": "code",
   "execution_count": 101,
   "metadata": {},
   "outputs": [
    {
     "data": {
      "text/plain": [
       "{'cat': 'sea', 'age': '10', 'colour': 'black'}"
      ]
     },
     "execution_count": 101,
     "metadata": {},
     "output_type": "execute_result"
    }
   ],
   "source": [
    "c.__dict__"
   ]
  },
  {
   "cell_type": "code",
   "execution_count": null,
   "metadata": {},
   "outputs": [],
   "source": []
  },
  {
   "cell_type": "code",
   "execution_count": 132,
   "metadata": {},
   "outputs": [],
   "source": [
    "class demo1():\n",
    "    \"\"\"this is for testing\"\"\"\n",
    "    dd = 0\n",
    "    def __init__(self, v):\n",
    "        self.it = v\n",
    "        \"\"\"this is for testing2\"\"\"\n",
    "    # def __doc__():\n",
    "    #     return \"this is for testing\""
   ]
  },
  {
   "cell_type": "code",
   "execution_count": 133,
   "metadata": {},
   "outputs": [],
   "source": [
    "d = demo1(1)"
   ]
  },
  {
   "cell_type": "code",
   "execution_count": 134,
   "metadata": {},
   "outputs": [
    {
     "name": "stdout",
     "output_type": "stream",
     "text": [
      "<__main__.demo1 object at 0x7fda505444f0>\n"
     ]
    }
   ],
   "source": [
    "print(d)"
   ]
  },
  {
   "cell_type": "code",
   "execution_count": 135,
   "metadata": {},
   "outputs": [
    {
     "data": {
      "text/plain": [
       "{'it': 1}"
      ]
     },
     "execution_count": 135,
     "metadata": {},
     "output_type": "execute_result"
    }
   ],
   "source": [
    "d.__dict__"
   ]
  },
  {
   "cell_type": "code",
   "execution_count": 136,
   "metadata": {},
   "outputs": [
    {
     "data": {
      "text/plain": [
       "mappingproxy({'__module__': '__main__',\n",
       "              '__doc__': 'this is for testing',\n",
       "              'dd': 0,\n",
       "              '__init__': <function __main__.demo1.__init__(self, v)>,\n",
       "              '__dict__': <attribute '__dict__' of 'demo1' objects>,\n",
       "              '__weakref__': <attribute '__weakref__' of 'demo1' objects>})"
      ]
     },
     "execution_count": 136,
     "metadata": {},
     "output_type": "execute_result"
    }
   ],
   "source": [
    "demo1.__dict__"
   ]
  },
  {
   "cell_type": "code",
   "execution_count": 137,
   "metadata": {},
   "outputs": [
    {
     "name": "stdout",
     "output_type": "stream",
     "text": [
      "this is for testing\n"
     ]
    }
   ],
   "source": [
    "print(demo1.__doc__)"
   ]
  },
  {
   "cell_type": "code",
   "execution_count": 138,
   "metadata": {},
   "outputs": [],
   "source": [
    "# import pickle\n",
    "# pickle.__doc__"
   ]
  },
  {
   "cell_type": "code",
   "execution_count": 139,
   "metadata": {},
   "outputs": [
    {
     "name": "stdout",
     "output_type": "stream",
     "text": [
      "Help on class demo1 in module __main__:\n",
      "\n",
      "class demo1(builtins.object)\n",
      " |  demo1(v)\n",
      " |  \n",
      " |  this is for testing\n",
      " |  \n",
      " |  Methods defined here:\n",
      " |  \n",
      " |  __init__(self, v)\n",
      " |      Initialize self.  See help(type(self)) for accurate signature.\n",
      " |  \n",
      " |  ----------------------------------------------------------------------\n",
      " |  Data descriptors defined here:\n",
      " |  \n",
      " |  __dict__\n",
      " |      dictionary for instance variables (if defined)\n",
      " |  \n",
      " |  __weakref__\n",
      " |      list of weak references to the object (if defined)\n",
      " |  \n",
      " |  ----------------------------------------------------------------------\n",
      " |  Data and other attributes defined here:\n",
      " |  \n",
      " |  dd = 0\n",
      "\n"
     ]
    }
   ],
   "source": [
    "help(demo1)"
   ]
  },
  {
   "cell_type": "code",
   "execution_count": null,
   "metadata": {},
   "outputs": [],
   "source": []
  }
 ],
 "metadata": {
  "kernelspec": {
   "display_name": "virtual-env",
   "language": "python",
   "name": "python3"
  },
  "language_info": {
   "codemirror_mode": {
    "name": "ipython",
    "version": 3
   },
   "file_extension": ".py",
   "mimetype": "text/x-python",
   "name": "python",
   "nbconvert_exporter": "python",
   "pygments_lexer": "ipython3",
   "version": "3.9.13"
  },
  "orig_nbformat": 4,
  "vscode": {
   "interpreter": {
    "hash": "efd0f11ecf0dafebb326181b7a144c1363cc586168af640c71bb4a1ca66b1b47"
   }
  }
 },
 "nbformat": 4,
 "nbformat_minor": 2
}
